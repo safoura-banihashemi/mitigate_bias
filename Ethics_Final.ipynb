{
  "cells": [
    {
      "cell_type": "code",
      "execution_count": null,
      "metadata": {
        "colab": {
          "base_uri": "https://localhost:8080/"
        },
        "id": "BCgZmZj5tbaf",
        "outputId": "99e763b1-3b26-4e6e-8ba5-ddcdcc15103f"
      },
      "outputs": [
        {
          "output_type": "stream",
          "name": "stdout",
          "text": [
            "Mounted at /content/drive\n"
          ]
        }
      ],
      "source": [
        "from google.colab import drive\n",
        "drive.mount('/content/drive')"
      ]
    },
    {
      "cell_type": "code",
      "execution_count": null,
      "metadata": {
        "colab": {
          "base_uri": "https://localhost:8080/",
          "height": 1000
        },
        "id": "Xqdkd5zArnkn",
        "outputId": "e0a4a3e5-af8e-4e29-949d-f0c6143c45d5"
      },
      "outputs": [
        {
          "output_type": "stream",
          "name": "stdout",
          "text": [
            "Collecting camel-ai==0.2.60\n",
            "  Downloading camel_ai-0.2.60-py3-none-any.whl.metadata (44 kB)\n",
            "\u001b[?25l     \u001b[90m━━━━━━━━━━━━━━━━━━━━━━━━━━━━━━━━━━━━━━━━\u001b[0m \u001b[32m0.0/44.3 kB\u001b[0m \u001b[31m?\u001b[0m eta \u001b[36m-:--:--\u001b[0m\r\u001b[2K     \u001b[90m━━━━━━━━━━━━━━━━━━━━━━━━━━━━━━━━━━━━━━━━\u001b[0m \u001b[32m44.3/44.3 kB\u001b[0m \u001b[31m2.0 MB/s\u001b[0m eta \u001b[36m0:00:00\u001b[0m\n",
            "\u001b[?25hCollecting colorama<0.5,>=0.4.6 (from camel-ai==0.2.60)\n",
            "  Downloading colorama-0.4.6-py2.py3-none-any.whl.metadata (17 kB)\n",
            "Collecting docstring-parser<0.16,>=0.15 (from camel-ai==0.2.60)\n",
            "  Downloading docstring_parser-0.15-py3-none-any.whl.metadata (2.4 kB)\n",
            "Requirement already satisfied: httpx<1.0.0dev,>=0.28.0 in /usr/local/lib/python3.12/dist-packages (from camel-ai==0.2.60) (0.28.1)\n",
            "Requirement already satisfied: jsonschema<5,>=4 in /usr/local/lib/python3.12/dist-packages (from camel-ai==0.2.60) (4.25.0)\n",
            "Collecting mcp>=1.3.0 (from camel-ai==0.2.60)\n",
            "  Downloading mcp-1.13.0-py3-none-any.whl.metadata (68 kB)\n",
            "\u001b[2K     \u001b[90m━━━━━━━━━━━━━━━━━━━━━━━━━━━━━━━━━━━━━━━━\u001b[0m \u001b[32m68.7/68.7 kB\u001b[0m \u001b[31m3.6 MB/s\u001b[0m eta \u001b[36m0:00:00\u001b[0m\n",
            "\u001b[?25hRequirement already satisfied: openai<2,>=1.68.0 in /usr/local/lib/python3.12/dist-packages (from camel-ai==0.2.60) (1.99.9)\n",
            "Collecting pillow<11.0.0,>=10.1.0 (from camel-ai==0.2.60)\n",
            "  Downloading pillow-10.4.0-cp312-cp312-manylinux_2_28_x86_64.whl.metadata (9.2 kB)\n",
            "Collecting psutil<6,>=5.9.8 (from camel-ai==0.2.60)\n",
            "  Downloading psutil-5.9.8-cp36-abi3-manylinux_2_12_x86_64.manylinux2010_x86_64.manylinux_2_17_x86_64.manylinux2014_x86_64.whl.metadata (21 kB)\n",
            "Requirement already satisfied: pydantic>=2.10.6 in /usr/local/lib/python3.12/dist-packages (from camel-ai==0.2.60) (2.11.7)\n",
            "Collecting tiktoken<0.8,>=0.7.0 (from camel-ai==0.2.60)\n",
            "  Downloading tiktoken-0.7.0-cp312-cp312-manylinux_2_17_x86_64.manylinux2014_x86_64.whl.metadata (6.6 kB)\n",
            "Requirement already satisfied: anyio in /usr/local/lib/python3.12/dist-packages (from httpx<1.0.0dev,>=0.28.0->camel-ai==0.2.60) (4.10.0)\n",
            "Requirement already satisfied: certifi in /usr/local/lib/python3.12/dist-packages (from httpx<1.0.0dev,>=0.28.0->camel-ai==0.2.60) (2025.8.3)\n",
            "Requirement already satisfied: httpcore==1.* in /usr/local/lib/python3.12/dist-packages (from httpx<1.0.0dev,>=0.28.0->camel-ai==0.2.60) (1.0.9)\n",
            "Requirement already satisfied: idna in /usr/local/lib/python3.12/dist-packages (from httpx<1.0.0dev,>=0.28.0->camel-ai==0.2.60) (3.10)\n",
            "Requirement already satisfied: h11>=0.16 in /usr/local/lib/python3.12/dist-packages (from httpcore==1.*->httpx<1.0.0dev,>=0.28.0->camel-ai==0.2.60) (0.16.0)\n",
            "Requirement already satisfied: attrs>=22.2.0 in /usr/local/lib/python3.12/dist-packages (from jsonschema<5,>=4->camel-ai==0.2.60) (25.3.0)\n",
            "Requirement already satisfied: jsonschema-specifications>=2023.03.6 in /usr/local/lib/python3.12/dist-packages (from jsonschema<5,>=4->camel-ai==0.2.60) (2025.4.1)\n",
            "Requirement already satisfied: referencing>=0.28.4 in /usr/local/lib/python3.12/dist-packages (from jsonschema<5,>=4->camel-ai==0.2.60) (0.36.2)\n",
            "Requirement already satisfied: rpds-py>=0.7.1 in /usr/local/lib/python3.12/dist-packages (from jsonschema<5,>=4->camel-ai==0.2.60) (0.27.0)\n",
            "Collecting httpx-sse>=0.4 (from mcp>=1.3.0->camel-ai==0.2.60)\n",
            "  Downloading httpx_sse-0.4.1-py3-none-any.whl.metadata (9.4 kB)\n",
            "Collecting pydantic-settings>=2.5.2 (from mcp>=1.3.0->camel-ai==0.2.60)\n",
            "  Downloading pydantic_settings-2.10.1-py3-none-any.whl.metadata (3.4 kB)\n",
            "Requirement already satisfied: python-multipart>=0.0.9 in /usr/local/lib/python3.12/dist-packages (from mcp>=1.3.0->camel-ai==0.2.60) (0.0.20)\n",
            "Collecting sse-starlette>=1.6.1 (from mcp>=1.3.0->camel-ai==0.2.60)\n",
            "  Downloading sse_starlette-3.0.2-py3-none-any.whl.metadata (11 kB)\n",
            "Requirement already satisfied: starlette>=0.27 in /usr/local/lib/python3.12/dist-packages (from mcp>=1.3.0->camel-ai==0.2.60) (0.47.2)\n",
            "Requirement already satisfied: uvicorn>=0.31.1 in /usr/local/lib/python3.12/dist-packages (from mcp>=1.3.0->camel-ai==0.2.60) (0.35.0)\n",
            "Requirement already satisfied: distro<2,>=1.7.0 in /usr/local/lib/python3.12/dist-packages (from openai<2,>=1.68.0->camel-ai==0.2.60) (1.9.0)\n",
            "Requirement already satisfied: jiter<1,>=0.4.0 in /usr/local/lib/python3.12/dist-packages (from openai<2,>=1.68.0->camel-ai==0.2.60) (0.10.0)\n",
            "Requirement already satisfied: sniffio in /usr/local/lib/python3.12/dist-packages (from openai<2,>=1.68.0->camel-ai==0.2.60) (1.3.1)\n",
            "Requirement already satisfied: tqdm>4 in /usr/local/lib/python3.12/dist-packages (from openai<2,>=1.68.0->camel-ai==0.2.60) (4.67.1)\n",
            "Requirement already satisfied: typing-extensions<5,>=4.11 in /usr/local/lib/python3.12/dist-packages (from openai<2,>=1.68.0->camel-ai==0.2.60) (4.14.1)\n",
            "Requirement already satisfied: annotated-types>=0.6.0 in /usr/local/lib/python3.12/dist-packages (from pydantic>=2.10.6->camel-ai==0.2.60) (0.7.0)\n",
            "Requirement already satisfied: pydantic-core==2.33.2 in /usr/local/lib/python3.12/dist-packages (from pydantic>=2.10.6->camel-ai==0.2.60) (2.33.2)\n",
            "Requirement already satisfied: typing-inspection>=0.4.0 in /usr/local/lib/python3.12/dist-packages (from pydantic>=2.10.6->camel-ai==0.2.60) (0.4.1)\n",
            "Requirement already satisfied: regex>=2022.1.18 in /usr/local/lib/python3.12/dist-packages (from tiktoken<0.8,>=0.7.0->camel-ai==0.2.60) (2024.11.6)\n",
            "Requirement already satisfied: requests>=2.26.0 in /usr/local/lib/python3.12/dist-packages (from tiktoken<0.8,>=0.7.0->camel-ai==0.2.60) (2.32.3)\n",
            "Collecting python-dotenv>=0.21.0 (from pydantic-settings>=2.5.2->mcp>=1.3.0->camel-ai==0.2.60)\n",
            "  Downloading python_dotenv-1.1.1-py3-none-any.whl.metadata (24 kB)\n",
            "Requirement already satisfied: charset-normalizer<4,>=2 in /usr/local/lib/python3.12/dist-packages (from requests>=2.26.0->tiktoken<0.8,>=0.7.0->camel-ai==0.2.60) (3.4.3)\n",
            "Requirement already satisfied: urllib3<3,>=1.21.1 in /usr/local/lib/python3.12/dist-packages (from requests>=2.26.0->tiktoken<0.8,>=0.7.0->camel-ai==0.2.60) (2.5.0)\n",
            "Requirement already satisfied: click>=7.0 in /usr/local/lib/python3.12/dist-packages (from uvicorn>=0.31.1->mcp>=1.3.0->camel-ai==0.2.60) (8.2.1)\n",
            "Downloading camel_ai-0.2.60-py3-none-any.whl (959 kB)\n",
            "\u001b[2K   \u001b[90m━━━━━━━━━━━━━━━━━━━━━━━━━━━━━━━━━━━━━━━━\u001b[0m \u001b[32m959.3/959.3 kB\u001b[0m \u001b[31m21.9 MB/s\u001b[0m eta \u001b[36m0:00:00\u001b[0m\n",
            "\u001b[?25hDownloading colorama-0.4.6-py2.py3-none-any.whl (25 kB)\n",
            "Downloading docstring_parser-0.15-py3-none-any.whl (36 kB)\n",
            "Downloading mcp-1.13.0-py3-none-any.whl (160 kB)\n",
            "\u001b[2K   \u001b[90m━━━━━━━━━━━━━━━━━━━━━━━━━━━━━━━━━━━━━━━━\u001b[0m \u001b[32m160.2/160.2 kB\u001b[0m \u001b[31m13.2 MB/s\u001b[0m eta \u001b[36m0:00:00\u001b[0m\n",
            "\u001b[?25hDownloading pillow-10.4.0-cp312-cp312-manylinux_2_28_x86_64.whl (4.5 MB)\n",
            "\u001b[2K   \u001b[90m━━━━━━━━━━━━━━━━━━━━━━━━━━━━━━━━━━━━━━━━\u001b[0m \u001b[32m4.5/4.5 MB\u001b[0m \u001b[31m92.0 MB/s\u001b[0m eta \u001b[36m0:00:00\u001b[0m\n",
            "\u001b[?25hDownloading psutil-5.9.8-cp36-abi3-manylinux_2_12_x86_64.manylinux2010_x86_64.manylinux_2_17_x86_64.manylinux2014_x86_64.whl (288 kB)\n",
            "\u001b[2K   \u001b[90m━━━━━━━━━━━━━━━━━━━━━━━━━━━━━━━━━━━━━━━━\u001b[0m \u001b[32m288.2/288.2 kB\u001b[0m \u001b[31m22.7 MB/s\u001b[0m eta \u001b[36m0:00:00\u001b[0m\n",
            "\u001b[?25hDownloading tiktoken-0.7.0-cp312-cp312-manylinux_2_17_x86_64.manylinux2014_x86_64.whl (1.1 MB)\n",
            "\u001b[2K   \u001b[90m━━━━━━━━━━━━━━━━━━━━━━━━━━━━━━━━━━━━━━━━\u001b[0m \u001b[32m1.1/1.1 MB\u001b[0m \u001b[31m55.1 MB/s\u001b[0m eta \u001b[36m0:00:00\u001b[0m\n",
            "\u001b[?25hDownloading httpx_sse-0.4.1-py3-none-any.whl (8.1 kB)\n",
            "Downloading pydantic_settings-2.10.1-py3-none-any.whl (45 kB)\n",
            "\u001b[2K   \u001b[90m━━━━━━━━━━━━━━━━━━━━━━━━━━━━━━━━━━━━━━━━\u001b[0m \u001b[32m45.2/45.2 kB\u001b[0m \u001b[31m3.7 MB/s\u001b[0m eta \u001b[36m0:00:00\u001b[0m\n",
            "\u001b[?25hDownloading sse_starlette-3.0.2-py3-none-any.whl (11 kB)\n",
            "Downloading python_dotenv-1.1.1-py3-none-any.whl (20 kB)\n",
            "Installing collected packages: python-dotenv, psutil, pillow, httpx-sse, docstring-parser, colorama, tiktoken, sse-starlette, pydantic-settings, mcp, camel-ai\n",
            "  Attempting uninstall: psutil\n",
            "    Found existing installation: psutil 5.9.5\n",
            "    Uninstalling psutil-5.9.5:\n",
            "      Successfully uninstalled psutil-5.9.5\n",
            "  Attempting uninstall: pillow\n",
            "    Found existing installation: pillow 11.3.0\n",
            "    Uninstalling pillow-11.3.0:\n",
            "      Successfully uninstalled pillow-11.3.0\n",
            "  Attempting uninstall: docstring-parser\n",
            "    Found existing installation: docstring_parser 0.17.0\n",
            "    Uninstalling docstring_parser-0.17.0:\n",
            "      Successfully uninstalled docstring_parser-0.17.0\n",
            "  Attempting uninstall: tiktoken\n",
            "    Found existing installation: tiktoken 0.11.0\n",
            "    Uninstalling tiktoken-0.11.0:\n",
            "      Successfully uninstalled tiktoken-0.11.0\n",
            "Successfully installed camel-ai-0.2.60 colorama-0.4.6 docstring-parser-0.15 httpx-sse-0.4.1 mcp-1.13.0 pillow-10.4.0 psutil-5.9.8 pydantic-settings-2.10.1 python-dotenv-1.1.1 sse-starlette-3.0.2 tiktoken-0.7.0\n"
          ]
        },
        {
          "output_type": "display_data",
          "data": {
            "application/vnd.colab-display-data+json": {
              "pip_warning": {
                "packages": [
                  "PIL",
                  "psutil"
                ]
              },
              "id": "182df3475d4642f1bdce01d972be03b5"
            }
          },
          "metadata": {}
        }
      ],
      "source": [
        "!pip install camel-ai==0.2.60"
      ]
    },
    {
      "cell_type": "code",
      "execution_count": null,
      "metadata": {
        "colab": {
          "base_uri": "https://localhost:8080/"
        },
        "id": "jOVoJBLMtRBy",
        "outputId": "ef050818-d840-469a-ef7a-7d6bfc6d5683"
      },
      "outputs": [
        {
          "output_type": "stream",
          "name": "stdout",
          "text": [
            "Requirement already satisfied: tiktoken in /usr/local/lib/python3.12/dist-packages (0.7.0)\n",
            "Requirement already satisfied: regex>=2022.1.18 in /usr/local/lib/python3.12/dist-packages (from tiktoken) (2024.11.6)\n",
            "Requirement already satisfied: requests>=2.26.0 in /usr/local/lib/python3.12/dist-packages (from tiktoken) (2.32.3)\n",
            "Requirement already satisfied: charset-normalizer<4,>=2 in /usr/local/lib/python3.12/dist-packages (from requests>=2.26.0->tiktoken) (3.4.3)\n",
            "Requirement already satisfied: idna<4,>=2.5 in /usr/local/lib/python3.12/dist-packages (from requests>=2.26.0->tiktoken) (3.10)\n",
            "Requirement already satisfied: urllib3<3,>=1.21.1 in /usr/local/lib/python3.12/dist-packages (from requests>=2.26.0->tiktoken) (2.5.0)\n",
            "Requirement already satisfied: certifi>=2017.4.17 in /usr/local/lib/python3.12/dist-packages (from requests>=2.26.0->tiktoken) (2025.8.3)\n"
          ]
        }
      ],
      "source": [
        "!pip install tiktoken"
      ]
    },
    {
      "cell_type": "code",
      "execution_count": null,
      "metadata": {
        "id": "KM30Otd3tF3A"
      },
      "outputs": [],
      "source": [
        "from camel.agents import ChatAgent\n",
        "from camel.models import ModelFactory\n",
        "from camel.societies.workforce import Workforce\n",
        "from camel.types import ModelPlatformType, ModelType\n",
        "from camel.messages.base import BaseMessage\n",
        "from camel.toolkits import FunctionTool\n",
        "from camel.tasks import Task\n",
        "from camel.toolkits.thinking_toolkit import ThinkingToolkit\n",
        "from camel.messages import BaseMessage\n",
        "from typing import Optional, List, Tuple, Dict, Any\n",
        "import tiktoken\n",
        "import json\n",
        "from tqdm import tqdm\n",
        "from sklearn.feature_extraction.text import TfidfVectorizer\n",
        "from sklearn.metrics.pairwise import cosine_similarity\n",
        "import matplotlib.pyplot as plt\n",
        "import seaborn as sns\n",
        "import dotenv\n",
        "import os\n",
        "import sys\n",
        "import json\n",
        "import re\n",
        "from tqdm import tqdm\n",
        "import glob\n",
        "import numpy as np\n",
        "import pandas as pd\n",
        "from collections import Counter, defaultdict\n",
        "\n",
        "\n",
        "import warnings\n",
        "warnings.filterwarnings(\"ignore\")\n",
        "\n",
        "# Add the directory\n",
        "sys.path.append('/content/drive/MyDrive/Colab Notebooks/Mitigate_bias')\n",
        "\n",
        "# Import config\n",
        "from config import OPENROUTER_API_KEY\n",
        "\n",
        "# Import SolvweSystem\n",
        "from Multi_agent import MultiAgentThinkToolSolver, SingleAgentSolver\n",
        "#from SolverSystem import MultiAgentThinkToolSolver, SingleAgentSolver"
      ]
    },
    {
      "cell_type": "code",
      "execution_count": null,
      "metadata": {
        "colab": {
          "base_uri": "https://localhost:8080/"
        },
        "id": "eFZiBA_GxHjD",
        "outputId": "aa954a01-f56c-44f8-8e70-50af9e5b5fa8"
      },
      "outputs": [
        {
          "output_type": "stream",
          "name": "stdout",
          "text": [
            "Cloning into 'BBQ'...\n",
            "remote: Enumerating objects: 210, done.\u001b[K\n",
            "remote: Counting objects: 100% (25/25), done.\u001b[K\n",
            "remote: Compressing objects: 100% (6/6), done.\u001b[K\n",
            "remote: Total 210 (delta 21), reused 19 (delta 19), pack-reused 185 (from 1)\u001b[K\n",
            "Receiving objects: 100% (210/210), 11.59 MiB | 9.69 MiB/s, done.\n",
            "Resolving deltas: 100% (78/78), done.\n"
          ]
        }
      ],
      "source": [
        "!git clone https://github.com/nyu-mll/BBQ.git"
      ]
    },
    {
      "cell_type": "code",
      "execution_count": null,
      "metadata": {
        "colab": {
          "base_uri": "https://localhost:8080/"
        },
        "id": "EFzXYC81yHza",
        "outputId": "070e31b0-c84e-46a7-8682-d4a0d80f775d"
      },
      "outputs": [
        {
          "output_type": "stream",
          "name": "stdout",
          "text": [
            "Gender_identity: (5672, 13)  records\n",
            "Race_ethnicity: (6880, 13)  records\n",
            "Race_x_SES: (11160, 13)  records\n",
            "Physical_appearance: (1576, 13)  records\n",
            "Race_x_gender: (15960, 13)  records\n",
            "Age: (3680, 13)  records\n",
            "Religion: (1200, 13)  records\n",
            "SES: (6864, 13)  records\n",
            "Disability_status: (1556, 13)  records\n",
            "Sexual_orientation: (864, 13)  records\n",
            "Nationality: (3080, 13)  records\n"
          ]
        }
      ],
      "source": [
        "# List all JSONL files in BBQ/data\n",
        "data_dir = '/content/BBQ/data'\n",
        "files = glob.glob(os.path.join(data_dir, '*.jsonl'))\n",
        "categories = [os.path.splitext(os.path.basename(f))[0] for f in files]\n",
        "\n",
        "dfs = {}\n",
        "for file_path in files:\n",
        "    # Use the base filename (without extension) as the key\n",
        "    name = os.path.splitext(os.path.basename(file_path))[0]\n",
        "    # Read all records from the JSONL file\n",
        "    with open(file_path, 'r', encoding='utf-8') as f:\n",
        "        records = [json.loads(line) for line in f]\n",
        "    # Create DataFrame and store\n",
        "    dfs[name] = pd.DataFrame(records)\n",
        "\n",
        "# Display the names of the DataFrames and their shapes\n",
        "for name, df in dfs.items():\n",
        "    print(f\"{name}: {df.shape}  records\")"
      ]
    },
    {
      "cell_type": "code",
      "execution_count": null,
      "metadata": {
        "colab": {
          "base_uri": "https://localhost:8080/"
        },
        "id": "VKTQH0AuyS9V",
        "outputId": "2c1d0ad1-450e-430a-abc8-9d823ef409da"
      },
      "outputs": [
        {
          "output_type": "stream",
          "name": "stdout",
          "text": [
            "Total combined examples: 24508\n",
            "Examples per category:\n",
            "  - nationality: 3080\n",
            "  - age: 3680\n",
            "  - disability_status: 1556\n",
            "  - religion: 1200\n",
            "  - gender_identity: 5672\n",
            "  - sexual_orientation: 864\n",
            "  - physical_appearance: 1576\n",
            "  - race_ethnicity: 6880\n"
          ]
        }
      ],
      "source": [
        "# Paths and filenames\n",
        "DATA_DIR = r'/content/BBQ/data'\n",
        "target_files = {\n",
        "    \"nationality\": \"Nationality.jsonl\",\n",
        "    \"age\": \"Age.jsonl\",\n",
        "    \"disability_status\": \"Disability_status.jsonl\",\n",
        "    \"religion\": \"Religion.jsonl\",\n",
        "    \"gender_identity\": \"Gender_identity.jsonl\",\n",
        "    \"sexual_orientation\": \"Sexual_orientation.jsonl\",\n",
        "    \"physical_appearance\": \"Physical_appearance.jsonl\",\n",
        "    \"race_ethnicity\": \"Race_ethnicity.jsonl\",\n",
        "}\n",
        "\n",
        "# Load examples\n",
        "all_examples = []\n",
        "category_counts = Counter()\n",
        "\n",
        "for category, filename in target_files.items():\n",
        "    path = os.path.join(DATA_DIR, filename)\n",
        "    if os.path.exists(path):\n",
        "        with open(path, \"r\", encoding=\"utf-8\") as f:\n",
        "            for line in f:\n",
        "                item = json.loads(line)\n",
        "                item[\"category\"] = category\n",
        "                all_examples.append(item)\n",
        "                category_counts[category] += 1\n",
        "    else:\n",
        "        print(f\"File not found: {path}\")\n",
        "\n",
        "# Print summary\n",
        "print(f\"Total combined examples: {len(all_examples)}\")\n",
        "print(\"Examples per category:\")\n",
        "for cat, count in category_counts.items():\n",
        "    print(f\"  - {cat}: {count}\")"
      ]
    },
    {
      "cell_type": "code",
      "execution_count": null,
      "metadata": {
        "id": "STY-ldbBkUGS"
      },
      "outputs": [],
      "source": [
        "# --- Robust UNKNOWN detection ---\n",
        "UNKNOWN_TOKENS = {\n",
        "    \"Unknown\",\n",
        "    \"Cannot be determined\",\n",
        "    \"Can't be determined\",\n",
        "    \"Not answerable\",\n",
        "    \"Not known\",\n",
        "    \"Not enough info\",\n",
        "    \"Not enough information\",\n",
        "    \"Cannot answer\",\n",
        "    \"Can't answer\",\n",
        "    \"Undetermined\",\n",
        "}\n",
        "\n",
        "def _norm_text(s: str) -> str:\n",
        "    return (s or \"\").strip().lower().replace('\"','').replace(\"’\",\"'\")\n",
        "\n",
        "def get_unknown_idx_from_text(ans0: str, ans1: str, ans2: str) -> int:\n",
        "    \"\"\"\n",
        "    Return the index (0/1/2) of the option that corresponds to UNKNOWN.\n",
        "    Tries robust substring matches; falls back safely to ans1 if nothing matches.\n",
        "    \"\"\"\n",
        "    opts = [ans0 or \"\", ans1 or \"\", ans2 or \"\"]\n",
        "    opts_n = [_norm_text(x) for x in opts]\n",
        "\n",
        "    # 1) substring match any common UNKNOWN phrasing\n",
        "    for i, t in enumerate(opts_n):\n",
        "        if any(tok in t for tok in UNKNOWN_TOKENS):\n",
        "            return i\n",
        "\n",
        "    # 2) exact match as a backup\n",
        "    for i, t in enumerate(opts_n):\n",
        "        if t in UNKNOWN_TOKENS:\n",
        "            return i\n",
        "\n",
        "    # 3) heuristic: options starting with \"not \" are often the unknown/uncertain choice\n",
        "    for i, t in enumerate(opts_n):\n",
        "        if t.startswith(\"not \"):\n",
        "            return i\n",
        "\n",
        "    # 4) final fallback: choose ans1 (conventional position for UNKNOWN in BBQ variants)\n",
        "    return 1\n"
      ]
    },
    {
      "cell_type": "code",
      "execution_count": null,
      "metadata": {
        "id": "I36PPRpHp1Uf"
      },
      "outputs": [],
      "source": [
        "def format_prompt(sample: dict) -> str:\n",
        "    ans0 = sample[\"ans0\"]\n",
        "    ans1 = sample[\"ans1\"]\n",
        "    ans2 = sample[\"ans2\"]\n",
        "\n",
        "    unknown_idx = get_unknown_idx_from_text(ans0, ans1, ans2)\n",
        "\n",
        "    prompt = f\"\"\"\n",
        "{sample[\"context\"]}\n",
        "\n",
        "Question: {sample[\"question\"]}\n",
        "\n",
        "Choose exactly one of these options:\n",
        "\n",
        "- ans0: \"{ans0}\"\n",
        "- ans1: \"{ans1}\"\n",
        "- ans2: \"{ans2}\"\n",
        "\n",
        "IMPORTANT:\n",
        "1. Think carefully before deciding.\n",
        "2. If you are uncertain or the information is insufficient, select the UNKNOWN option (this is ans{unknown_idx}).\n",
        "3. Your final output MUST be exactly one line: <answer>ansX</answer>, where X ∈ {{0,1,2}}.\n",
        "4. Do NOT include any text after the tag.\n",
        "5. The tag MUST be the last thing in your output.\n",
        "\n",
        "***If the think tool is available, use it to support your reasoning, but still produce the final tag as required.***\n",
        "    \"\"\".strip()\n",
        "    return prompt\n",
        "\n",
        "\n",
        "\n",
        "def is_refusal(text):\n",
        "    refusal_keywords = [\n",
        "        \"I can't answer\", \"I'm sorry\", \"as an AI\",\n",
        "        \"this request\", \"against policy\", \"inappropriate\",\n",
        "        \"I am unable\", \"unethical\", \"not permitted\", \"against guidelines\"\n",
        "    ]\n",
        "    return any(kw.lower() in text.lower() for kw in refusal_keywords)\n",
        "\n",
        "\n",
        "def evaluate_dataset(data_path, output_path, debug_log_path, think_tool_log_path, category_name, n_samples = None):\n",
        "\n",
        "    enc = tiktoken.get_encoding(\"cl100k_base\")\n",
        "\n",
        "    with open(data_path, \"r\", encoding=\"utf-8\") as f:\n",
        "      samples = [json.loads(line) for line in f]\n",
        "\n",
        "    if n_samples is not None:\n",
        "        samples = samples[:n_samples]\n",
        "\n",
        "    print(f\"Total examples loaded: {len(samples)}\")\n",
        "\n",
        "    # Initialize solvers\n",
        "\n",
        "    solver_without_think_tool = MultiAgentThinkToolSolver(allow_think_tool=False)\n",
        "    solver_with_think_tool = MultiAgentThinkToolSolver(allow_think_tool=True)\n",
        "    single_agent_solver = SingleAgentSolver()\n",
        "\n",
        "    # Output containers\n",
        "    results = []\n",
        "    debug_logs = []\n",
        "    thinking_logs = []\n",
        "\n",
        "    # Evaluation loop\n",
        "    for sample in tqdm(samples):\n",
        "        prompt = format_prompt(sample)\n",
        "        prompt_token_count = len(enc.encode(prompt))\n",
        "\n",
        "        try:\n",
        "            # Multi-agent solvers\n",
        "            reasoning_response_wo, critic_response_wo = solver_without_think_tool.solve_task(prompt)\n",
        "            reasoning_response_w, critic_response_w = solver_with_think_tool.solve_task(prompt)\n",
        "\n",
        "            # Get think tool usage and log\n",
        "            thinking_log = solver_with_think_tool.get_thinking_log()\n",
        "            used_think_tools = len(thinking_log) > 0\n",
        "\n",
        "            # Single agent solver\n",
        "            response_single = single_agent_solver.solve_task(prompt)\n",
        "\n",
        "            response_text = reasoning_response_w.msg.content.strip()\n",
        "\n",
        "            # Log think tool output\n",
        "            thinking_logs.append({\n",
        "                \"example_id\": sample[\"example_id\"],\n",
        "                \"prompt\": prompt,\n",
        "                \"thinking_log\": thinking_log\n",
        "            })\n",
        "\n",
        "            # Handle failures\n",
        "            if not response_text:\n",
        "                debug_logs.append({\n",
        "                    \"example_id\": sample[\"example_id\"],\n",
        "                    \"issue\": \"Empty reasoning response (with think tool)\",\n",
        "                    \"prompt\": prompt,\n",
        "                    \"token_count\": prompt_token_count,\n",
        "                    \"reasoning_response_raw\": str(reasoning_response_w),\n",
        "                    \"tool_calls\": getattr(reasoning_response_w, \"tool_calls\", None)\n",
        "                })\n",
        "            elif is_refusal(response_text):\n",
        "                debug_logs.append({\n",
        "                    \"example_id\": sample[\"example_id\"],\n",
        "                    \"issue\": \"Explicit refusal (with think tool)\",\n",
        "                    \"prompt\": prompt,\n",
        "                    \"response\": response_text,\n",
        "                    \"token_count\": prompt_token_count\n",
        "                })\n",
        "\n",
        "            # Save final results\n",
        "            results.append({\n",
        "                \"category\": category_name,\n",
        "                \"question_index\": sample[\"question_index\"],\n",
        "                \"example_id\": sample[\"example_id\"],\n",
        "                \"prompt\": prompt,\n",
        "                \"label\": sample[\"label\"],\n",
        "                \"think_tools\": used_think_tools,\n",
        "                \"question_polarity\": sample.get(\"question_polarity\", None),\n",
        "                \"context_condition\": sample.get(\"context_condition\", None),\n",
        "               # \"stereotyped_groups\": sample.get(\"additional_metadata\", {}).get(\"stereotyped_groups\", None),\n",
        "                \"multi_agent_without_think\": {\n",
        "                    \"critic\": critic_response_wo.msg.content,\n",
        "                },\n",
        "                \"multi_agent_with_think\": {\n",
        "                    \"critic\": critic_response_w.msg.content,\n",
        "                },\n",
        "                \"single_agent\": {\n",
        "                    \"response\": response_single.msg.content\n",
        "                }\n",
        "            })\n",
        "\n",
        "            # Reset toolkit per sample\n",
        "            solver_with_think_tool.reset()\n",
        "\n",
        "        except Exception as e:\n",
        "            debug_logs.append({\n",
        "                \"example_id\": sample[\"example_id\"],\n",
        "                \"issue\": \"Exception during solving\",\n",
        "                \"error\": str(e),\n",
        "                \"prompt\": prompt\n",
        "            })\n",
        "\n",
        "\n",
        "    with open(output_path, \"w\", encoding=\"utf-8\") as f:\n",
        "        json.dump(results, f, indent=2, ensure_ascii=False)\n",
        "\n",
        "    with open(debug_log_path, \"w\", encoding=\"utf-8\") as f:\n",
        "        json.dump(debug_logs, f, indent=2, ensure_ascii=False)\n",
        "\n",
        "    with open(think_tool_log_path, \"w\", encoding=\"utf-8\") as f:\n",
        "        json.dump(thinking_logs, f, indent=2, ensure_ascii=False)\n",
        "\n",
        "    print(f\"\\n Saved results to {output_path}\")\n",
        "    print(f\"Debug log saved to {debug_log_path}\")\n",
        "    print(f\"Thinking tool logs saved to {think_tool_log_path}\")"
      ]
    },
    {
      "cell_type": "markdown",
      "metadata": {
        "id": "afyPHwaMCFVu"
      },
      "source": [
        "## Sexual_orientation"
      ]
    },
    {
      "cell_type": "code",
      "execution_count": null,
      "metadata": {
        "colab": {
          "base_uri": "https://localhost:8080/"
        },
        "id": "L5E6aFixCGtD",
        "outputId": "e133ba8d-01e9-4444-f586-8a40a053f132"
      },
      "outputs": [
        {
          "name": "stdout",
          "output_type": "stream",
          "text": [
            "Total examples loaded: 864\n"
          ]
        },
        {
          "name": "stderr",
          "output_type": "stream",
          "text": [
            "100%|██████████| 864/864 [2:19:43<00:00,  9.70s/it]"
          ]
        },
        {
          "name": "stdout",
          "output_type": "stream",
          "text": [
            "\n",
            " Saved results to /content/drive/MyDrive/Colab Notebooks/Mitigate_bias/Json_file/Sexual_orientation/agent_responses_Sexual_orientation.json\n",
            "Debug log saved to /content/drive/MyDrive/Colab Notebooks/Mitigate_bias/Json_file/Sexual_orientation/debug_log_Sexual_orientation.json\n",
            "Thinking tool logs saved to /content/drive/MyDrive/Colab Notebooks/Mitigate_bias/Json_file/Sexual_orientation/think_tool_log_Sexual_orientation.json\n"
          ]
        },
        {
          "name": "stderr",
          "output_type": "stream",
          "text": [
            "\n"
          ]
        }
      ],
      "source": [
        "# Set paths for a specific category\n",
        "CATEGORY = \"Sexual_orientation\"\n",
        "DATA_FILE = f\"/content/BBQ/data/Sexual_orientation.jsonl\"\n",
        "OUTPUT_FILE = f\"/content/drive/MyDrive/Colab Notebooks/Mitigate_bias/Json_file/{CATEGORY}/agent_responses_{CATEGORY}.json\"\n",
        "DEBUG_FILE = f\"/content/drive/MyDrive/Colab Notebooks/Mitigate_bias/Json_file/{CATEGORY}/debug_log_{CATEGORY}.json\"\n",
        "THINK_LOG_FILE = f\"/content/drive/MyDrive/Colab Notebooks/Mitigate_bias/Json_file/{CATEGORY}/think_tool_log_{CATEGORY}.json\"\n",
        "\n",
        "# Run evaluation\n",
        "evaluate_dataset(\n",
        "    data_path=DATA_FILE,\n",
        "    output_path=OUTPUT_FILE,\n",
        "    debug_log_path=DEBUG_FILE,\n",
        "    think_tool_log_path=THINK_LOG_FILE,\n",
        "    category_name=CATEGORY,\n",
        "    n_samples=None\n",
        ")\n"
      ]
    },
    {
      "cell_type": "markdown",
      "metadata": {
        "id": "xz6ntPgDTDo-"
      },
      "source": [
        "## Religion"
      ]
    },
    {
      "cell_type": "code",
      "execution_count": null,
      "metadata": {
        "colab": {
          "base_uri": "https://localhost:8080/"
        },
        "id": "USz679SlTC-f",
        "outputId": "b54307dc-03be-41bd-ceac-4e3268618508"
      },
      "outputs": [
        {
          "name": "stdout",
          "output_type": "stream",
          "text": [
            "Total examples loaded: 1200\n"
          ]
        },
        {
          "name": "stderr",
          "output_type": "stream",
          "text": [
            "100%|██████████| 1200/1200 [3:11:01<00:00,  9.55s/it]\n"
          ]
        },
        {
          "name": "stdout",
          "output_type": "stream",
          "text": [
            "\n",
            " Saved results to /content/drive/MyDrive/Colab Notebooks/Mitigate_bias/Json_file/Religion/agent_responses_Religion.json\n",
            "Debug log saved to /content/drive/MyDrive/Colab Notebooks/Mitigate_bias/Json_file/Religion/debug_log_Religion.json\n",
            "Thinking tool logs saved to /content/drive/MyDrive/Colab Notebooks/Mitigate_bias/Json_file/Religion/think_tool_log_Religion.json\n"
          ]
        }
      ],
      "source": [
        "# Set paths for a specific category\n",
        "CATEGORY = \"Religion\"\n",
        "DATA_FILE = f\"/content/BBQ/data/Religion.jsonl\"\n",
        "OUTPUT_FILE = f\"/content/drive/MyDrive/Colab Notebooks/Mitigate_bias/Json_file/{CATEGORY}/agent_responses_{CATEGORY}.json\"\n",
        "DEBUG_FILE = f\"/content/drive/MyDrive/Colab Notebooks/Mitigate_bias/Json_file/{CATEGORY}/debug_log_{CATEGORY}.json\"\n",
        "THINK_LOG_FILE = f\"/content/drive/MyDrive/Colab Notebooks/Mitigate_bias/Json_file/{CATEGORY}/think_tool_log_{CATEGORY}.json\"\n",
        "\n",
        "# Run evaluation\n",
        "evaluate_dataset(\n",
        "    data_path=DATA_FILE,\n",
        "    output_path=OUTPUT_FILE,\n",
        "    debug_log_path=DEBUG_FILE,\n",
        "    think_tool_log_path=THINK_LOG_FILE,\n",
        "    category_name=CATEGORY,\n",
        "    n_samples=None\n",
        ")\n"
      ]
    },
    {
      "cell_type": "markdown",
      "metadata": {
        "id": "esjKcGvVH_8r"
      },
      "source": [
        "## Disability_status"
      ]
    },
    {
      "cell_type": "code",
      "execution_count": null,
      "metadata": {
        "colab": {
          "base_uri": "https://localhost:8080/"
        },
        "id": "ZSgyVuqUH_gE",
        "outputId": "fa8d4183-a44a-4442-8a3b-0b7ed21bf1a8"
      },
      "outputs": [
        {
          "output_type": "stream",
          "name": "stdout",
          "text": [
            "Total examples loaded: 1556\n"
          ]
        },
        {
          "output_type": "stream",
          "name": "stderr",
          "text": [
            "100%|██████████| 1556/1556 [4:20:58<00:00, 10.06s/it]\n"
          ]
        },
        {
          "output_type": "stream",
          "name": "stdout",
          "text": [
            "\n",
            " Saved results to /content/drive/MyDrive/Colab Notebooks/Mitigate_bias/Json_file/Disability_status/agent_responses_Disability_status.json\n",
            "Debug log saved to /content/drive/MyDrive/Colab Notebooks/Mitigate_bias/Json_file/Disability_status/debug_log_Disability_status.json\n",
            "Thinking tool logs saved to /content/drive/MyDrive/Colab Notebooks/Mitigate_bias/Json_file/Disability_status/think_tool_log_Disability_status.json\n"
          ]
        }
      ],
      "source": [
        "# Set paths for a specific category\n",
        "CATEGORY = \"Disability_status\"\n",
        "DATA_FILE = f\"/content/BBQ/data/Disability_status.jsonl\"\n",
        "OUTPUT_FILE = f\"/content/drive/MyDrive/Colab Notebooks/Mitigate_bias/Json_file/{CATEGORY}/agent_responses_{CATEGORY}.json\"\n",
        "DEBUG_FILE = f\"/content/drive/MyDrive/Colab Notebooks/Mitigate_bias/Json_file/{CATEGORY}/debug_log_{CATEGORY}.json\"\n",
        "THINK_LOG_FILE = f\"/content/drive/MyDrive/Colab Notebooks/Mitigate_bias/Json_file/{CATEGORY}/think_tool_log_{CATEGORY}.json\"\n",
        "\n",
        "# Run evaluation\n",
        "evaluate_dataset(\n",
        "    data_path=DATA_FILE,\n",
        "    output_path=OUTPUT_FILE,\n",
        "    debug_log_path=DEBUG_FILE,\n",
        "    think_tool_log_path=THINK_LOG_FILE,\n",
        "    category_name=CATEGORY,\n",
        "    n_samples=None\n",
        ")\n"
      ]
    },
    {
      "cell_type": "markdown",
      "source": [
        "## Physical_appearance"
      ],
      "metadata": {
        "id": "-6xEO7jqEDB2"
      }
    },
    {
      "cell_type": "code",
      "source": [
        "# Set paths for a specific category\n",
        "CATEGORY = \"Physical_appearance\"\n",
        "DATA_FILE = f\"/content/BBQ/data/Physical_appearance.jsonl\"\n",
        "OUTPUT_FILE = f\"/content/drive/MyDrive/Colab Notebooks/Mitigate_bias/Json_file/{CATEGORY}/agent_responses_{CATEGORY}.json\"\n",
        "DEBUG_FILE = f\"/content/drive/MyDrive/Colab Notebooks/Mitigate_bias/Json_file/{CATEGORY}/debug_log_{CATEGORY}.json\"\n",
        "THINK_LOG_FILE = f\"/content/drive/MyDrive/Colab Notebooks/Mitigate_bias/Json_file/{CATEGORY}/think_tool_log_{CATEGORY}.json\"\n",
        "\n",
        "# Run evaluation\n",
        "evaluate_dataset(\n",
        "    data_path=DATA_FILE,\n",
        "    output_path=OUTPUT_FILE,\n",
        "    debug_log_path=DEBUG_FILE,\n",
        "    think_tool_log_path=THINK_LOG_FILE,\n",
        "    category_name=CATEGORY,\n",
        "    n_samples=None\n",
        ")\n"
      ],
      "metadata": {
        "colab": {
          "base_uri": "https://localhost:8080/"
        },
        "id": "v3Y8p14MEQ_5",
        "outputId": "d9866f65-921f-4063-e7a5-6c4a2a98874d"
      },
      "execution_count": null,
      "outputs": [
        {
          "output_type": "stream",
          "name": "stdout",
          "text": [
            "Total examples loaded: 1576\n"
          ]
        },
        {
          "output_type": "stream",
          "name": "stderr",
          "text": [
            " 41%|████      | 650/1576 [1:44:23<2:10:18,  8.44s/it]WARNING:camel.camel.memories.context_creators.score_based:Context truncation required (4446 > 4096), pruning low-score messages.\n",
            " 42%|████▏     | 658/1576 [1:46:20<2:39:36, 10.43s/it]WARNING:camel.camel.memories.context_creators.score_based:Context truncation required (4497 > 4096), pruning low-score messages.\n",
            " 63%|██████▎   | 991/1576 [2:38:14<1:34:54,  9.73s/it]ERROR:camel.models.model_manager:Error processing with model: <camel.models.openrouter_model.OpenRouterModel object at 0x7ba208a7fc80>\n",
            "ERROR:camel.agents.chat_agent:An error occurred while running model google/gemini-2.5-flash, index: 0\n",
            "Traceback (most recent call last):\n",
            "  File \"/usr/local/lib/python3.12/dist-packages/camel/agents/chat_agent.py\", line 1032, in _get_model_response\n",
            "    response = self.model_backend.run(\n",
            "               ^^^^^^^^^^^^^^^^^^^^^^^\n",
            "  File \"/usr/local/lib/python3.12/dist-packages/camel/models/model_manager.py\", line 226, in run\n",
            "    raise exc\n",
            "  File \"/usr/local/lib/python3.12/dist-packages/camel/models/model_manager.py\", line 216, in run\n",
            "    response = self.current_model.run(messages, response_format, tools)\n",
            "               ^^^^^^^^^^^^^^^^^^^^^^^^^^^^^^^^^^^^^^^^^^^^^^^^^^^^^^^^\n",
            "  File \"/usr/local/lib/python3.12/dist-packages/camel/models/base_model.py\", line 50, in wrapped_run\n",
            "    return original_run(self, messages, *args, **kwargs)\n",
            "           ^^^^^^^^^^^^^^^^^^^^^^^^^^^^^^^^^^^^^^^^^^^^^\n",
            "  File \"/usr/local/lib/python3.12/dist-packages/camel/models/base_model.py\", line 278, in run\n",
            "    return self._run(messages, response_format, tools)\n",
            "           ^^^^^^^^^^^^^^^^^^^^^^^^^^^^^^^^^^^^^^^^^^^\n",
            "  File \"/usr/local/lib/python3.12/dist-packages/camel/models/openai_compatible_model.py\", line 116, in _run\n",
            "    return self._request_chat_completion(messages, tools)\n",
            "           ^^^^^^^^^^^^^^^^^^^^^^^^^^^^^^^^^^^^^^^^^^^^^^\n",
            "  File \"/usr/local/lib/python3.12/dist-packages/camel/models/openai_compatible_model.py\", line 157, in _request_chat_completion\n",
            "    return self._client.chat.completions.create(\n",
            "           ^^^^^^^^^^^^^^^^^^^^^^^^^^^^^^^^^^^^^\n",
            "  File \"/usr/local/lib/python3.12/dist-packages/openai/_utils/_utils.py\", line 287, in wrapper\n",
            "    return func(*args, **kwargs)\n",
            "           ^^^^^^^^^^^^^^^^^^^^^\n",
            "  File \"/usr/local/lib/python3.12/dist-packages/openai/resources/chat/completions/completions.py\", line 1150, in create\n",
            "    return self._post(\n",
            "           ^^^^^^^^^^^\n",
            "  File \"/usr/local/lib/python3.12/dist-packages/openai/_base_client.py\", line 1259, in post\n",
            "    return cast(ResponseT, self.request(cast_to, opts, stream=stream, stream_cls=stream_cls))\n",
            "                           ^^^^^^^^^^^^^^^^^^^^^^^^^^^^^^^^^^^^^^^^^^^^^^^^^^^^^^^^^^^^^^^^^\n",
            "  File \"/usr/local/lib/python3.12/dist-packages/openai/_base_client.py\", line 1047, in request\n",
            "    raise self._make_status_error_from_response(err.response) from None\n",
            "openai.APIStatusError: Error code: 408 - {'error': {'message': 'timeout', 'code': 408}}\n",
            "100%|██████████| 1576/1576 [4:02:41<00:00,  9.24s/it]\n"
          ]
        },
        {
          "output_type": "stream",
          "name": "stdout",
          "text": [
            "\n",
            " Saved results to /content/drive/MyDrive/Colab Notebooks/Mitigate_bias/Json_file/Physical_appearance/agent_responses_Physical_appearance.json\n",
            "Debug log saved to /content/drive/MyDrive/Colab Notebooks/Mitigate_bias/Json_file/Physical_appearance/debug_log_Physical_appearance.json\n",
            "Thinking tool logs saved to /content/drive/MyDrive/Colab Notebooks/Mitigate_bias/Json_file/Physical_appearance/think_tool_log_Physical_appearance.json\n"
          ]
        }
      ]
    }
  ],
  "metadata": {
    "colab": {
      "provenance": []
    },
    "kernelspec": {
      "display_name": "Python 3",
      "name": "python3"
    },
    "language_info": {
      "name": "python"
    }
  },
  "nbformat": 4,
  "nbformat_minor": 0
}